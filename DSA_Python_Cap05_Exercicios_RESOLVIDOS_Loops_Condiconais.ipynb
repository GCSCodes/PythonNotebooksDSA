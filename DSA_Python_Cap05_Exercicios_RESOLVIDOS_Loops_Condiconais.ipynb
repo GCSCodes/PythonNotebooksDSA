{
  "cells": [
    {
      "cell_type": "markdown",
      "metadata": {
        "id": "view-in-github",
        "colab_type": "text"
      },
      "source": [
        "<a href=\"https://colab.research.google.com/github/GCSCodes/PythonNotebooksDSA/blob/main/DSA_Python_Cap05_Exercicios_RESOLVIDOS_Loops_Condiconais.ipynb\" target=\"_parent\"><img src=\"https://colab.research.google.com/assets/colab-badge.svg\" alt=\"Open In Colab\"/></a>"
      ]
    },
    {
      "cell_type": "markdown",
      "metadata": {
        "id": "qzhtveLB3XtF"
      },
      "source": [
        "# <font color='blue'>Data Science Academy</font>\n",
        "\n",
        "## <font color='blue'>Fundamentos de Linguagem Python Para Análise de Dados e Data Science</font>\n",
        "\n",
        "## <font color='blue'>Capítulo 5 - Exercícios de Loops e Condicionais</font>\n",
        "\n",
        "Exercícios resolvidos por mim do capítulo 5 sobre loops condicionais em python\n"
      ]
    },
    {
      "cell_type": "code",
      "execution_count": null,
      "metadata": {
        "id": "ckxsrkvW3XtH"
      },
      "outputs": [],
      "source": [
        "# Versão da Linguagem Python\n",
        "from platform import python_version\n",
        "print('Versão da Linguagem Python Usada Neste Jupyter Notebook:', python_version())"
      ]
    },
    {
      "cell_type": "markdown",
      "metadata": {
        "id": "zeqLlK7Y3XtJ"
      },
      "source": [
        "## Exercícios - Loops e Condiconais"
      ]
    },
    {
      "cell_type": "code",
      "execution_count": 9,
      "metadata": {
        "id": "E5KA6RtC3XtJ",
        "colab": {
          "base_uri": "https://localhost:8080/"
        },
        "outputId": "8bdeecec-a114-4429-d9d2-71f5efd75ad1"
      },
      "outputs": [
        {
          "output_type": "stream",
          "name": "stdout",
          "text": [
            "Que dia da semana é hoje? Domingo\n",
            "Hoje é dia de descanso!\n"
          ]
        }
      ],
      "source": [
        "# Exercício 1 - Crie uma estrutura que pergunte ao usuário qual o dia da semana. Se o dia for igual a Domingo ou\n",
        "# igual a sábado, imprima na tela \"Hoje é dia de descanso\", caso contrário imprima na tela \"Você precisa trabalhar!\"\n",
        "\n",
        "dia_semana = input(\"Que dia da semana é hoje? \")\n",
        "\n",
        "if (dia_semana == \"Domingo\") or (dia_semana == 'Sábado'):\n",
        "  print('Hoje é dia de descanso!')\n",
        "else:\n",
        "  print(\"Vai trabalhar, vagabundo!\")"
      ]
    },
    {
      "cell_type": "code",
      "execution_count": 13,
      "metadata": {
        "id": "tH_cjq9x3XtJ",
        "colab": {
          "base_uri": "https://localhost:8080/"
        },
        "outputId": "6c9e4901-57ad-46a7-c550-b2ac8a365de6"
      },
      "outputs": [
        {
          "output_type": "stream",
          "name": "stdout",
          "text": [
            "morango está na lista\n"
          ]
        }
      ],
      "source": [
        "# Exercício 2 - Crie uma lista de 5 frutas e verifique se a fruta 'Morango' faz parte da lista\n",
        "lista_frutas = ['morango','laranja','abacaxi','uva','melancia']\n",
        "\n",
        "if 'morango' in lista_frutas:\n",
        "  print('morango está na lista')\n",
        "else:\n",
        "  print(\"morango não está na lista\")"
      ]
    },
    {
      "cell_type": "code",
      "execution_count": 15,
      "metadata": {
        "id": "bo1fNF3H3XtK",
        "colab": {
          "base_uri": "https://localhost:8080/"
        },
        "outputId": "ac96f9e3-81d9-4554-d68e-14da07d42646"
      },
      "outputs": [
        {
          "output_type": "stream",
          "name": "stdout",
          "text": [
            "[20, 40, 60, 80]\n"
          ]
        }
      ],
      "source": [
        "# Exercício 3 - Crie uma tupla de 4 elementos, multiplique cada elemento da tupla por 2 e guarde os resultados em uma\n",
        "# lista\n",
        "\n",
        "tupla = (10, 20, 30, 40)\n",
        "lista_x2 = []\n",
        "\n",
        "for num in tupla:\n",
        "  lista_x2.append(num*2)\n",
        "\n",
        "print(lista_x2)"
      ]
    },
    {
      "cell_type": "code",
      "execution_count": 21,
      "metadata": {
        "id": "huk00Izz3XtK",
        "colab": {
          "base_uri": "https://localhost:8080/"
        },
        "outputId": "a07c0dda-9685-4784-80de-48711f80b01c"
      },
      "outputs": [
        {
          "output_type": "stream",
          "name": "stdout",
          "text": [
            "102\n",
            "104\n",
            "106\n",
            "108\n",
            "110\n",
            "112\n",
            "114\n",
            "116\n",
            "118\n",
            "120\n",
            "122\n",
            "124\n",
            "126\n",
            "128\n",
            "130\n",
            "132\n",
            "134\n",
            "136\n",
            "138\n",
            "140\n",
            "142\n",
            "144\n",
            "146\n",
            "148\n",
            "150\n"
          ]
        }
      ],
      "source": [
        "# Exercício 4 - Crie uma sequência de números pares entre 100 e 150 e imprima na tela\n",
        "\n",
        "for num in range(100,151):\n",
        "    if num % 2:\n",
        "      print(num + 1)\n",
        ""
      ]
    },
    {
      "cell_type": "code",
      "execution_count": 25,
      "metadata": {
        "id": "03x98bEI3XtK",
        "colab": {
          "base_uri": "https://localhost:8080/"
        },
        "outputId": "7d3f0334-434f-4440-fb64-99f796618c1f"
      },
      "outputs": [
        {
          "output_type": "stream",
          "name": "stdout",
          "text": [
            "40\n",
            "39\n",
            "38\n",
            "37\n",
            "36\n"
          ]
        }
      ],
      "source": [
        "# Exercício 5 - Crie uma variável chamada temperatura e atribua o valor 40. Enquanto temperatura for maior que 35,\n",
        "# imprima as temperaturas na tela\n",
        "\n",
        "temperatura = 40\n",
        "\n",
        "while temperatura > 35:\n",
        "  print(temperatura)\n",
        "  temperatura = temperatura - 1"
      ]
    },
    {
      "cell_type": "code",
      "execution_count": 29,
      "metadata": {
        "id": "IdSaBXQy3XtL",
        "colab": {
          "base_uri": "https://localhost:8080/"
        },
        "outputId": "949c3de5-dcca-43fd-bad1-033b392ef327"
      },
      "outputs": [
        {
          "output_type": "stream",
          "name": "stdout",
          "text": [
            "0\n",
            "1\n",
            "2\n",
            "3\n",
            "4\n",
            "5\n",
            "6\n",
            "7\n",
            "8\n",
            "9\n",
            "10\n",
            "11\n",
            "12\n",
            "13\n",
            "14\n",
            "15\n",
            "16\n",
            "17\n",
            "18\n",
            "19\n",
            "20\n",
            "21\n",
            "22\n"
          ]
        }
      ],
      "source": [
        "# Exercício 6 - Crie uma variável chamada contador = 0. Enquanto counter for menor que 100, imprima os valores na tela,\n",
        "# mas quando for encontrado o valor 23, interrompa a execução do programa\n",
        "\n",
        "contador = 0\n",
        "\n",
        "while contador < 100:\n",
        "  print(contador)\n",
        "  contador = contador + 1\n",
        "  if contador == 23:\n",
        "    break"
      ]
    },
    {
      "cell_type": "code",
      "execution_count": 30,
      "metadata": {
        "id": "1Lc5OaSS3XtL",
        "colab": {
          "base_uri": "https://localhost:8080/"
        },
        "outputId": "75538d4d-e1f0-4012-8724-8f8baa8cc862"
      },
      "outputs": [
        {
          "output_type": "stream",
          "name": "stdout",
          "text": [
            "[4]\n",
            "[4, 5]\n",
            "[4, 5, 6]\n",
            "[4, 5, 6, 7]\n",
            "[4, 5, 6, 7, 8]\n",
            "[4, 5, 6, 7, 8, 9]\n",
            "[4, 5, 6, 7, 8, 9, 10]\n",
            "[4, 5, 6, 7, 8, 9, 10, 11]\n",
            "[4, 5, 6, 7, 8, 9, 10, 11, 12]\n",
            "[4, 5, 6, 7, 8, 9, 10, 11, 12, 13]\n",
            "[4, 5, 6, 7, 8, 9, 10, 11, 12, 13, 14]\n",
            "[4, 5, 6, 7, 8, 9, 10, 11, 12, 13, 14, 15]\n",
            "[4, 5, 6, 7, 8, 9, 10, 11, 12, 13, 14, 15, 16]\n",
            "[4, 5, 6, 7, 8, 9, 10, 11, 12, 13, 14, 15, 16, 17]\n",
            "[4, 5, 6, 7, 8, 9, 10, 11, 12, 13, 14, 15, 16, 17, 18]\n",
            "[4, 5, 6, 7, 8, 9, 10, 11, 12, 13, 14, 15, 16, 17, 18, 19]\n",
            "[4, 5, 6, 7, 8, 9, 10, 11, 12, 13, 14, 15, 16, 17, 18, 19, 20]\n"
          ]
        }
      ],
      "source": [
        "# Exercício 7 - Crie uma lista vazia e uma variável com valor 4. Enquanto o valor da variável for menor ou igual a 20,\n",
        "# adicione à lista, apenas os valores pares e imprima a lista\n",
        "\n",
        "list = []\n",
        "var = 4\n",
        "\n",
        "while var <= 20:\n",
        "  list.append(var)\n",
        "  var = var + 1\n",
        "  print(list)"
      ]
    },
    {
      "cell_type": "code",
      "execution_count": 31,
      "metadata": {
        "id": "xzOsVOau3XtL",
        "colab": {
          "base_uri": "https://localhost:8080/"
        },
        "outputId": "f52461a9-cce6-4b62-866f-fb5dca66a9ff"
      },
      "outputs": [
        {
          "output_type": "stream",
          "name": "stdout",
          "text": [
            "[5, 7, 9, 11, 13, 15, 17, 19, 21, 23, 25, 27, 29, 31, 33, 35, 37, 39, 41, 43]\n"
          ]
        }
      ],
      "source": [
        "# Exercício 8 - Transforme o resultado desta função range em uma lista: range(5, 45, 2)\n",
        "nums = range(5, 45, 2)\n",
        "list2 = []\n",
        "for num in nums:\n",
        "  list2.append(num)\n",
        "\n",
        "print(list2)"
      ]
    },
    {
      "cell_type": "code",
      "execution_count": 35,
      "metadata": {
        "id": "thJnkv4b3XtL",
        "colab": {
          "base_uri": "https://localhost:8080/"
        },
        "outputId": "d750507e-472e-4d07-a989-54ad36919653"
      },
      "outputs": [
        {
          "output_type": "stream",
          "name": "stdout",
          "text": [
            "Qual a temperatura? 36\n",
            "Vista roupas leves.\n"
          ]
        }
      ],
      "source": [
        "# Exercício 9 - Faça a correção dos erros no código abaixo e execute o programa. Dica: são 3 erros.\n",
        "temperatura = float(input('Qual a temperatura? '))\n",
        "if temperatura > 30:\n",
        "  print('Vista roupas leves.')\n",
        "else:\n",
        "    print('Busque seus casacos.')"
      ]
    },
    {
      "cell_type": "code",
      "execution_count": 38,
      "metadata": {
        "id": "TNXZywl33XtM",
        "colab": {
          "base_uri": "https://localhost:8080/"
        },
        "outputId": "e13ed4f8-2814-4971-b605-fbedd21c185d"
      },
      "outputs": [
        {
          "output_type": "stream",
          "name": "stdout",
          "text": [
            "5\n"
          ]
        }
      ],
      "source": [
        "# Exercício 10 - Faça um programa que conte quantas vezes a letra \"r\" aparece na frase abaixo. Use um placeholder na\n",
        "# sua instrução de impressão\n",
        "\n",
        "# “A gratidão é a virtude das almas nobres. O quão feliz é uma pessoa depende da profundidade de sua gratidão.”\n",
        "\n",
        "frase = \"A gratidão é a virtude das almas nobres. O quão feliz é uma pessoa depende da profundidade de sua gratidão.\"\n",
        "\n",
        "print(frase.count('r'))\n"
      ]
    },
    {
      "cell_type": "markdown",
      "metadata": {
        "id": "H6CJ0o-53XtM"
      },
      "source": [
        "# Fim"
      ]
    },
    {
      "cell_type": "markdown",
      "metadata": {
        "id": "iDmjO1Uw3XtM"
      },
      "source": [
        "### Blog da Data Science Academy - <a href=\"http://blog.dsacademy.com.br\">Blog DSA</a>"
      ]
    }
  ],
  "metadata": {
    "kernelspec": {
      "display_name": "Python 3 (ipykernel)",
      "language": "python",
      "name": "python3"
    },
    "language_info": {
      "codemirror_mode": {
        "name": "ipython",
        "version": 3
      },
      "file_extension": ".py",
      "mimetype": "text/x-python",
      "name": "python",
      "nbconvert_exporter": "python",
      "pygments_lexer": "ipython3",
      "version": "3.9.13"
    },
    "colab": {
      "provenance": [],
      "include_colab_link": true
    }
  },
  "nbformat": 4,
  "nbformat_minor": 0
}