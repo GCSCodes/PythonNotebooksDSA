{
  "cells": [
    {
      "cell_type": "markdown",
      "metadata": {
        "id": "view-in-github",
        "colab_type": "text"
      },
      "source": [
        "<a href=\"https://colab.research.google.com/github/GCSCodes/PythonNotebooksDSA/blob/main/DSA_Python_Cap05_Exercicios_RESOLVIDOS_Funcoes.ipynb\" target=\"_parent\"><img src=\"https://colab.research.google.com/assets/colab-badge.svg\" alt=\"Open In Colab\"/></a>"
      ]
    },
    {
      "cell_type": "markdown",
      "metadata": {
        "id": "1n9Ypr7c3Rzs"
      },
      "source": [
        "# <font color=''>Data Science Academy</font>\n",
        "\n",
        "## <font color=''>Fundamentos de Linguagem Python Para Análise de Dados e Data Science</font>\n",
        "\n",
        "## <font color=''>Capítulo 5 - Exercicios de Métodos e Funções - Resolução</font>\n",
        "\n",
        "\n",
        "Estas são resoluções de Exercícios do curso de data science com python da DSA."
      ]
    },
    {
      "cell_type": "code",
      "execution_count": null,
      "metadata": {
        "id": "BaZMO4AW3Rzw",
        "outputId": "cf8988f6-d289-4916-9a51-b37565b3e998"
      },
      "outputs": [
        {
          "name": "stdout",
          "output_type": "stream",
          "text": [
            "Versão da Linguagem Python Usada Neste Jupyter Notebook: 3.8.8\n"
          ]
        }
      ],
      "source": [
        "# Versão da Linguagem Python\n",
        "from platform import python_version\n",
        "print('Versão da Linguagem Python Usada Neste Jupyter Notebook:', python_version())"
      ]
    },
    {
      "cell_type": "markdown",
      "metadata": {
        "id": "Jgqfed3P3Rzy"
      },
      "source": [
        "## Exercícios - Métodos e Funções"
      ]
    },
    {
      "cell_type": "code",
      "execution_count": 23,
      "metadata": {
        "id": "BueLZdTd3Rzy",
        "colab": {
          "base_uri": "https://localhost:8080/"
        },
        "outputId": "fc8e5036-e3b6-4773-8c60-c5709b6cc71f"
      },
      "outputs": [
        {
          "output_type": "stream",
          "name": "stdout",
          "text": [
            "2\n",
            "4\n",
            "6\n",
            "8\n",
            "10\n",
            "12\n",
            "14\n",
            "16\n",
            "18\n",
            "20\n"
          ]
        }
      ],
      "source": [
        "# Exercício 1 - Crie uma função que imprima a sequência de números pares entre 1 e 20 (a função não recebe parâmetro)\n",
        "# e depois faça uma chamada à função para listar os números\n",
        "\n",
        "def num_pares():\n",
        "  for num in range(1,21):\n",
        "    if num % 2 == 0:\n",
        "      print(num)\n",
        "\n",
        "num_pares()"
      ]
    },
    {
      "cell_type": "code",
      "execution_count": 11,
      "metadata": {
        "id": "kIBa-sfk3Rzy",
        "colab": {
          "base_uri": "https://localhost:8080/"
        },
        "outputId": "baaa8d58-d2c8-477d-d834-9d47708b0527"
      },
      "outputs": [
        {
          "output_type": "stream",
          "name": "stdout",
          "text": [
            "A STRING É UMA SEQUÊNCIA DE CARACTERES\n"
          ]
        }
      ],
      "source": [
        "# Exercício 2 - Crie uam função que receba uma string como argumento e retorne a mesma string em letras maiúsculas.\n",
        "# Faça uma chamada à função, passando como parâmetro uma string\n",
        "\n",
        "string = 'A string é uma sequência de caracteres'\n",
        "\n",
        "def toupper(string):\n",
        "  print(string.upper())\n",
        "\n",
        "toupper(string)"
      ]
    },
    {
      "cell_type": "code",
      "execution_count": 22,
      "metadata": {
        "id": "s-2ROH5N3Rzz",
        "colab": {
          "base_uri": "https://localhost:8080/"
        },
        "outputId": "2a99c582-028e-4258-ba86-605bc16a7792"
      },
      "outputs": [
        {
          "output_type": "stream",
          "name": "stdout",
          "text": [
            "[10, 20, 30, 40, 50, 60, 70]\n"
          ]
        }
      ],
      "source": [
        "# Exercício 3 - Crie uma função que receba como parâmetro uma lista de 4 elementos, adicione 2 elementos a lista e\n",
        "# imprima a lista\n",
        "\n",
        "lista_1 = [10, 20, 30, 40, 50]\n",
        "\n",
        "def addnum(lista_1):\n",
        "  lista_1.append(60)\n",
        "  lista_1.append(70)\n",
        "\n",
        "addnum(lista_1)\n",
        "print(lista_1)"
      ]
    },
    {
      "cell_type": "code",
      "execution_count": 26,
      "metadata": {
        "id": "zLL94EPd3Rzz",
        "colab": {
          "base_uri": "https://localhost:8080/"
        },
        "outputId": "aa506284-a7c8-42f8-cdf8-e530ad6f61bc"
      },
      "outputs": [
        {
          "output_type": "stream",
          "name": "stdout",
          "text": [
            "Argumento formal: Primeira Chamada\n",
            "Lista de elementos: (10,)\n",
            "Argumento formal: Segunda Chamada\n",
            "Lista de elementos: (1, 2, 3, 4)\n"
          ]
        }
      ],
      "source": [
        "# Exercício 4 - Crie uma função que receba um argumento formal e uma possível lista de elementos. Faça duas chamadas\n",
        "# à função, com apenas 1 elemento e na segunda chamada com 4 elementos\n",
        "\n",
        "# Definição da função que recebe um argumento formal e uma lista de elementos\n",
        "def minha_funcao(arg, *elementos):\n",
        "    print(f\"Argumento formal: {arg}\")\n",
        "    print(\"Lista de elementos:\", elementos)\n",
        "\n",
        "# Primeira chamada com apenas 1 elemento\n",
        "minha_funcao(\"Primeira Chamada\", 10)\n",
        "\n",
        "# Segunda chamada com 4 elementos\n",
        "minha_funcao(\"Segunda Chamada\", 1, 2, 3, 4)\n",
        "\n",
        "#Feito com ChatGPT"
      ]
    },
    {
      "cell_type": "code",
      "execution_count": 24,
      "metadata": {
        "id": "N6Ivsg7V3Rzz",
        "colab": {
          "base_uri": "https://localhost:8080/"
        },
        "outputId": "89f25ba1-e4b9-473c-91f0-e4bf66f855f5"
      },
      "outputs": [
        {
          "output_type": "execute_result",
          "data": {
            "text/plain": [
              "3"
            ]
          },
          "metadata": {},
          "execution_count": 24
        }
      ],
      "source": [
        "# Exercício 5 - Crie uma função anônima e atribua seu retorno a uma variável chamada soma. A expressão vai receber 2\n",
        "# números como parâmetro e retornar a soma deles\n",
        "\n",
        "soma = lambda a,b: a + b\n",
        "soma(1,2)"
      ]
    },
    {
      "cell_type": "code",
      "execution_count": 25,
      "metadata": {
        "id": "Rjzn8tOt3Rzz",
        "colab": {
          "base_uri": "https://localhost:8080/"
        },
        "outputId": "5d04231d-bf60-485b-e78e-4b28fe09715c"
      },
      "outputs": [
        {
          "output_type": "stream",
          "name": "stdout",
          "text": [
            "Dentro da função o total é:  30\n",
            "Fora da função o total é:  0\n"
          ]
        }
      ],
      "source": [
        "# Exercício 6 - Execute o código abaixo e certifique-se que compreende a diferença entre variável global e local\n",
        "total = 0\n",
        "def soma( arg1, arg2 ):\n",
        "    total = arg1 + arg2;\n",
        "    print (\"Dentro da função o total é: \", total)\n",
        "    return total;\n",
        "\n",
        "\n",
        "soma( 10, 20 );\n",
        "print (\"Fora da função o total é: \", total)"
      ]
    },
    {
      "cell_type": "code",
      "execution_count": 35,
      "metadata": {
        "id": "tF37C1tX3Rz0",
        "colab": {
          "base_uri": "https://localhost:8080/"
        },
        "outputId": "9ac68844-dc99-4a16-844a-ada3ad9401ee"
      },
      "outputs": [
        {
          "output_type": "stream",
          "name": "stdout",
          "text": [
            "[102.56, 97.7, 99.14, 100.03999999999999]\n"
          ]
        }
      ],
      "source": [
        "# Exercício 7 - Abaixo você encontra uma lista com temperaturas em graus Celsius\n",
        "# Crie uma função anônima que converta cada temperatura para Fahrenheit\n",
        "# Dica: para conseguir realizar este exercício, você deve criar sua função lambda, dentro de uma função\n",
        "# (que será estudada no próximo capítulo). Isso permite aplicar sua função a cada elemento da lista\n",
        "# Como descobrir a fórmula matemática que converte de Celsius para Fahrenheit? Pesquise!!!\n",
        "Celsius = [39.2, 36.5, 37.3, 37.8]\n",
        "Fahrenheit = map(lambda Celsius: (Celsius * 9/5) + 32, Celsius)\n",
        "print (list(Fahrenheit))"
      ]
    },
    {
      "cell_type": "code",
      "execution_count": 36,
      "metadata": {
        "id": "OauZO-Ea3Rz0",
        "colab": {
          "base_uri": "https://localhost:8080/"
        },
        "outputId": "1b56e836-498e-42be-a2d5-4151210ca593"
      },
      "outputs": [
        {
          "output_type": "execute_result",
          "data": {
            "text/plain": [
              "[1, 4, 9, 16, 25, 36, 49, 64, 81, 100]"
            ]
          },
          "metadata": {},
          "execution_count": 36
        }
      ],
      "source": [
        "# Exercício 8 - Crie uma list comprehension que imprima o quadrado dos números de 1 a 10\n",
        "[x**2 for x in range(1,11)]"
      ]
    },
    {
      "cell_type": "code",
      "execution_count": 51,
      "metadata": {
        "id": "MdOhQmOr3Rz0",
        "colab": {
          "base_uri": "https://localhost:8080/"
        },
        "outputId": "c8aa9816-0281-4a5a-ff73-473a043180df"
      },
      "outputs": [
        {
          "output_type": "stream",
          "name": "stdout",
          "text": [
            "['maça', 'banana']\n"
          ]
        }
      ],
      "source": [
        "# Exercício 9 - Crie uma list comprehension que imprima as palavras com a letra a no nome\n",
        "palavras = [\"maça\", \"coiote\", \"banana\", \"terreno\", \"Python\"]\n",
        "lista_com_a = [x for x in palavras if 'a' in x]\n",
        "print(lista_com_a)"
      ]
    },
    {
      "cell_type": "code",
      "execution_count": 49,
      "metadata": {
        "id": "rZ0req2j3Rz1",
        "colab": {
          "base_uri": "https://localhost:8080/"
        },
        "outputId": "88176e01-638d-4ae5-d61b-d3e1a9204e3e"
      },
      "outputs": [
        {
          "output_type": "stream",
          "name": "stdout",
          "text": [
            "[0, 1, 2, 3, 4]\n"
          ]
        }
      ],
      "source": [
        "# Exercício 10 - Crie uma list comprehension que imprima os números menores que 5 em um intervalo de 1 a 10\n",
        "\n",
        "menor_5 = [x for x in range(0,11) if x < 5]\n",
        "print(menor_5)"
      ]
    },
    {
      "cell_type": "markdown",
      "metadata": {
        "id": "AppSyDum3Rz1"
      },
      "source": [
        "<a href=\"http://blog.dsacademy.com.br\">Blog DSA</a>"
      ]
    }
  ],
  "metadata": {
    "kernelspec": {
      "display_name": "Python 3 (ipykernel)",
      "language": "python",
      "name": "python3"
    },
    "language_info": {
      "codemirror_mode": {
        "name": "ipython",
        "version": 3
      },
      "file_extension": ".py",
      "mimetype": "text/x-python",
      "name": "python",
      "nbconvert_exporter": "python",
      "pygments_lexer": "ipython3",
      "version": "3.9.13"
    },
    "colab": {
      "provenance": [],
      "include_colab_link": true
    }
  },
  "nbformat": 4,
  "nbformat_minor": 0
}