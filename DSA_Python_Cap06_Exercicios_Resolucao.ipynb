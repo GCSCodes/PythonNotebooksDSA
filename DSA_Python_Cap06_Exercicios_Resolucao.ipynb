{
  "cells": [
    {
      "cell_type": "markdown",
      "metadata": {
        "id": "view-in-github",
        "colab_type": "text"
      },
      "source": [
        "<a href=\"https://colab.research.google.com/github/GCSCodes/PythonNotebooksDSA/blob/main/DSA_Python_Cap06_Exercicios_Resolucao.ipynb\" target=\"_parent\"><img src=\"https://colab.research.google.com/assets/colab-badge.svg\" alt=\"Open In Colab\"/></a>"
      ]
    },
    {
      "cell_type": "markdown",
      "metadata": {
        "id": "_aix6zmGrhoo"
      },
      "source": [
        "# <font color='blue'>Data Science Academy</font>\n",
        "\n",
        "## <font color='blue'>Fundamentos de Linguagem Python Para Análise de Dados e Data Science</font>\n",
        "\n",
        "## <font color='blue'>Capítulo 6 - Exercícios</font>"
      ]
    },
    {
      "cell_type": "markdown",
      "source": [
        "Exercícios resolvidos por Gabriel Cavalcante\n"
      ],
      "metadata": {
        "id": "HNMBYjQ_Gn8Q"
      }
    },
    {
      "cell_type": "code",
      "execution_count": null,
      "metadata": {
        "id": "UAjjfGJ-rhor"
      },
      "outputs": [],
      "source": [
        "# Versão da Linguagem Python\n",
        "from platform import python_version\n",
        "print('Versão da Linguagem Python Usada Neste Jupyter Notebook:', python_version())"
      ]
    },
    {
      "cell_type": "markdown",
      "metadata": {
        "id": "2NJ2wNp0rhot"
      },
      "source": [
        "## Exercícios"
      ]
    },
    {
      "cell_type": "code",
      "execution_count": 3,
      "metadata": {
        "colab": {
          "base_uri": "https://localhost:8080/"
        },
        "id": "hq7FzOuvrhou",
        "outputId": "5ec970f4-6f13-4368-de05-3e7553170783"
      },
      "outputs": [
        {
          "output_type": "stream",
          "name": "stdout",
          "text": [
            "[1000, 13824, 32768, 110592, 185193]\n"
          ]
        }
      ],
      "source": [
        "# Exercício 1 - Crie uma lista de 3 elementos e calcule a terceira potência de cada elemento.\n",
        "lista = [10,24,32,48,57]\n",
        "print(list(map(lambda x: x**3, lista)))"
      ]
    },
    {
      "cell_type": "code",
      "execution_count": 1,
      "metadata": {
        "colab": {
          "base_uri": "https://localhost:8080/"
        },
        "id": "Z_rsed9Orhov",
        "outputId": "db4028bc-4863-4ab2-a5de-f44b9aa7b1db"
      },
      "outputs": [
        {
          "output_type": "stream",
          "name": "stdout",
          "text": [
            "['A', 'a', 1]\n",
            "['DATA', 'data', 4]\n",
            "['SCIENCE', 'science', 7]\n",
            "['ACADEMY', 'academy', 7]\n",
            "['OFERCE', 'oferce', 6]\n",
            "['OS', 'os', 2]\n",
            "['MELHORES', 'melhores', 8]\n",
            "['CURSOS', 'cursos', 6]\n",
            "['DE', 'de', 2]\n",
            "['ANÁLISE', 'análise', 7]\n",
            "['DE', 'de', 2]\n",
            "['DADOS', 'dados', 5]\n",
            "['DO', 'do', 2]\n",
            "['BRASIL.', 'brasil.', 7]\n"
          ]
        }
      ],
      "source": [
        "# Exercício 2 - Reescreva o código abaixo, usando a função map(). O resultado final deve ser o mesmo!\n",
        "palavras = 'A Data Science Academy oferce os melhores cursos de análise de dados do Brasil.'.split()\n",
        "resultado = [[w.upper(), w.lower(), len(w)] for w in palavras]\n",
        "for i in resultado:\n",
        "    print (i)"
      ]
    },
    {
      "cell_type": "code",
      "execution_count": 5,
      "metadata": {
        "colab": {
          "base_uri": "https://localhost:8080/"
        },
        "id": "xhSI4Zpqrhov",
        "outputId": "8b0a2cc7-dfaf-4f53-ed44-692161b3eeed"
      },
      "outputs": [
        {
          "output_type": "stream",
          "name": "stdout",
          "text": [
            "['A', 'a', 1]\n",
            "['DATA', 'data', 4]\n",
            "['SCIENCE', 'science', 7]\n",
            "['ACADEMY', 'academy', 7]\n",
            "['OFERECE', 'oferece', 7]\n",
            "['OS', 'os', 2]\n",
            "['MELHORES', 'melhores', 8]\n",
            "['CURSOS', 'cursos', 6]\n",
            "['DE', 'de', 2]\n",
            "['ANÁLISE', 'análise', 7]\n",
            "['DE', 'de', 2]\n",
            "['DADOS', 'dados', 5]\n",
            "['DO', 'do', 2]\n",
            "['BRASIL.', 'brasil.', 7]\n"
          ]
        }
      ],
      "source": [
        "# Solução\n",
        "palavras = 'A Data Science Academy oferece os melhores cursos de análise de dados do Brasil.'.split()\n",
        "resultado = list(map(lambda w: [w.upper(), w.lower(), len(w)], palavras))\n",
        "for i in resultado:\n",
        "    print(i)"
      ]
    },
    {
      "cell_type": "code",
      "execution_count": 7,
      "metadata": {
        "colab": {
          "base_uri": "https://localhost:8080/"
        },
        "id": "xy4rmtjNrhov",
        "outputId": "bb03bdad-4f72-42e9-cf03-3d24db711b1e"
      },
      "outputs": [
        {
          "output_type": "stream",
          "name": "stdout",
          "text": [
            "[[1, 3, 5, 7], [2, 4, 6, 8]]\n"
          ]
        }
      ],
      "source": [
        "# Exercício 3 - Calcule a matriz transposta da matriz abaixo.\n",
        "# Caso não saiba o que é matriz transposta, visite este link: https://pt.wikipedia.org/wiki/Matriz_transposta\n",
        "# Matriz transposta é um conceito fundamental na construção de redes neurais artificiais, base de sistemas de IA.\n",
        "matrix = [[1, 2],[3,4],[5,6],[7,8]]\n",
        "\n",
        "matriz_trans = []\n",
        "for i in range(len(matrix[0])):\n",
        "    nova_linha = []\n",
        "    for row in matrix:\n",
        "        nova_linha.append(row[i])\n",
        "    matriz_trans.append(nova_linha)\n",
        "\n",
        "print(matriz_trans)"
      ]
    },
    {
      "cell_type": "code",
      "execution_count": 21,
      "metadata": {
        "colab": {
          "base_uri": "https://localhost:8080/"
        },
        "id": "tOH2R79Crhow",
        "outputId": "7e83299f-2fdf-42c2-bca8-c0e77ea0ea2b"
      },
      "outputs": [
        {
          "output_type": "stream",
          "name": "stdout",
          "text": [
            "[0, 1, 4, 9, 16]\n",
            "[0, 1, 8, 27, 64]\n"
          ]
        }
      ],
      "source": [
        "# Exercício 4 - Crie duas funções, uma para elevar um número ao quadrado e outra para elevar ao cubo.\n",
        "# Aplique as duas funções aos elementos da lista abaixo.\n",
        "# Obs: as duas funções devem ser aplicadas simultaneamente.\n",
        "lista = [0, 1, 2, 3, 4]\n",
        "\n",
        "def quadrado(x):\n",
        "  return [x ** 2 for x in lista]\n",
        "\n",
        "def cubo(x):\n",
        "  return [x ** 3 for x in lista]\n",
        "\n",
        "print(quadrado(lista))\n",
        "print(cubo(lista))"
      ]
    },
    {
      "cell_type": "code",
      "execution_count": 22,
      "metadata": {
        "colab": {
          "base_uri": "https://localhost:8080/"
        },
        "id": "WHH6PTjerhow",
        "outputId": "7c354811-e834-4bf4-922f-07cb78e8293b"
      },
      "outputs": [
        {
          "output_type": "stream",
          "name": "stdout",
          "text": [
            "[1024, 177147, 16777216]\n"
          ]
        }
      ],
      "source": [
        "# Exercício 5 - Abaixo você encontra duas listas. Faça com que cada elemento da listaA seja elevado\n",
        "# ao elemento correspondente na listaB.\n",
        "listaA = [2, 3, 4]\n",
        "listaB = [10, 11, 12]\n",
        "resultado = list(map(lambda a, b: a ** b, listaA, listaB))\n",
        "\n",
        "print(resultado)\n"
      ]
    },
    {
      "cell_type": "code",
      "execution_count": 25,
      "metadata": {
        "colab": {
          "base_uri": "https://localhost:8080/"
        },
        "id": "Wl0g7FJ5rhow",
        "outputId": "bf441306-dd25-4b2d-91eb-8594bda7a0da"
      },
      "outputs": [
        {
          "output_type": "execute_result",
          "data": {
            "text/plain": [
              "[-5, -4, -3, -2, -1]"
            ]
          },
          "metadata": {},
          "execution_count": 25
        }
      ],
      "source": [
        "# Exercício 6 - Considerando o range de valores abaixo, use a função filter() para retornar\n",
        "# apenas os valores negativos.\n",
        "range(-5, 5)\n",
        "\n",
        "def menor(num):\n",
        "    if num < 0:\n",
        "        return True\n",
        "    else:\n",
        "        return False\n",
        "\n",
        "list(filter(menor, range(-5, 5)))\n"
      ]
    },
    {
      "cell_type": "code",
      "execution_count": 26,
      "metadata": {
        "colab": {
          "base_uri": "https://localhost:8080/"
        },
        "id": "HBm5l9HSrhox",
        "outputId": "6015861f-5a2b-4b12-9625-75eb082defae"
      },
      "outputs": [
        {
          "output_type": "stream",
          "name": "stdout",
          "text": [
            "[2, 3, 5, 7]\n"
          ]
        }
      ],
      "source": [
        "# Exercício 7 - Usando a função filter(), encontre os valores que são comuns às duas listas abaixo.\n",
        "a = [1,2,3,5,7,9]\n",
        "b = [2,3,5,6,7,8]\n",
        "\n",
        "print(list(filter(lambda x: x in b, a)))"
      ]
    },
    {
      "cell_type": "code",
      "execution_count": 27,
      "metadata": {
        "colab": {
          "base_uri": "https://localhost:8080/"
        },
        "id": "H5Xfx-8Irhox",
        "outputId": "3a67f598-5043-45d9-956d-36fde895c809"
      },
      "outputs": [
        {
          "output_type": "stream",
          "name": "stdout",
          "text": [
            "{'a': 4, 'b': 5}\n"
          ]
        }
      ],
      "source": [
        "# Exercício 8 - Considere os dois dicionários abaixo.\n",
        "# Crie um terceiro dicionário com as chaves do dicionário 1 e os valores do dicionário 2.\n",
        "dict1 = {'a':1,'b':2}\n",
        "dict2 = {'c':4,'d':5}\n",
        "dict3 = {k: v for k, v in zip(dict1.keys(), dict2.values())}\n",
        "\n",
        "print(dict3)"
      ]
    },
    {
      "cell_type": "code",
      "execution_count": 30,
      "metadata": {
        "colab": {
          "base_uri": "https://localhost:8080/"
        },
        "id": "iE-mJpAgrhox",
        "outputId": "e1b958b9-e3cf-43af-947e-761eaeb5c871"
      },
      "outputs": [
        {
          "output_type": "stream",
          "name": "stdout",
          "text": [
            "g\n",
            "h\n"
          ]
        }
      ],
      "source": [
        "# Exercício 9 - Considere a lista abaixo e retorne apenas os elementos cujo índice for maior que 5.\n",
        "lista = ['a', 'b', 'c', 'd', 'e', 'f', 'g', 'h']\n",
        "\n",
        "for indice, valor in enumerate(lista):\n",
        "    if indice > 5:\n",
        "        print (valor)\n",
        "\n"
      ]
    },
    {
      "cell_type": "code",
      "execution_count": 38,
      "metadata": {
        "colab": {
          "base_uri": "https://localhost:8080/"
        },
        "id": "1RRTeQkLrhox",
        "outputId": "c0a42b75-7494-4e00-f7fb-98860459c5ce"
      },
      "outputs": [
        {
          "output_type": "stream",
          "name": "stdout",
          "text": [
            "Data Science Academy\n"
          ]
        }
      ],
      "source": [
        "# Exercício 10 - Crie um regex em Python para extrair a palavra que aparece depois das palavras\n",
        "# Data e Science na frase: 'A Data Science Academy oferce os melhores cursos de análise de dados do Brasil.'\n",
        "import re\n",
        "texto = 'A Data Science Academy oferece os melhores cursos de análise de dados do Brasil.'\n",
        "\n",
        "resultado = re.search(r'Data Science (\\w+)', texto)\n",
        "print(resultado[0])"
      ]
    },
    {
      "cell_type": "markdown",
      "metadata": {
        "id": "_rQfV3a9rhox"
      },
      "source": [
        "# Fim"
      ]
    }
  ],
  "metadata": {
    "kernelspec": {
      "display_name": "Python 3 (ipykernel)",
      "language": "python",
      "name": "python3"
    },
    "language_info": {
      "codemirror_mode": {
        "name": "ipython",
        "version": 3
      },
      "file_extension": ".py",
      "mimetype": "text/x-python",
      "name": "python",
      "nbconvert_exporter": "python",
      "pygments_lexer": "ipython3",
      "version": "3.9.13"
    },
    "colab": {
      "provenance": [],
      "include_colab_link": true
    }
  },
  "nbformat": 4,
  "nbformat_minor": 0
}